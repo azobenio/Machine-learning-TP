{
  "nbformat": 4,
  "nbformat_minor": 0,
  "metadata": {
    "kernelspec": {
      "display_name": "Python 3",
      "language": "python",
      "name": "python3"
    },
    "language_info": {
      "codemirror_mode": {
        "name": "ipython",
        "version": 3
      },
      "file_extension": ".py",
      "mimetype": "text/x-python",
      "name": "python",
      "nbconvert_exporter": "python",
      "pygments_lexer": "ipython3",
      "version": "3.8.1"
    },
    "colab": {
      "name": "02.2_Webscraping2_correction.ipynb",
      "provenance": [],
      "include_colab_link": true
    }
  },
  "cells": [
    {
      "cell_type": "markdown",
      "metadata": {
        "id": "view-in-github",
        "colab_type": "text"
      },
      "source": [
        "<a href=\"https://colab.research.google.com/github/azobenio/Machine-learning-TP/blob/master/02_2_Webscraping2_correction.ipynb\" target=\"_parent\"><img src=\"https://colab.research.google.com/assets/colab-badge.svg\" alt=\"Open In Colab\"/></a>"
      ]
    },
    {
      "cell_type": "markdown",
      "metadata": {
        "id": "3H0flI3NPLtg",
        "colab_type": "text"
      },
      "source": [
        "## More WebScrapping"
      ]
    },
    {
      "cell_type": "markdown",
      "metadata": {
        "id": "Rqd2dSN3PLth",
        "colab_type": "text"
      },
      "source": [
        "### Ressources utiles:\n",
        "https://www.crummy.com/software/BeautifulSoup/bs4/doc/ <br>\n",
        "https://www.webscraper.io/test-sites\n",
        "\n",
        "**Quand vous scrappez, essayez toujours de simuler le comportement d'un humain, un scrapping trop intensif sur un site internet peut le casser. De plus, votre ip pourra être bloquée selon les moyens de protections des sites internet**"
      ]
    },
    {
      "cell_type": "code",
      "metadata": {
        "id": "yAzvJ89UPLti",
        "colab_type": "code",
        "colab": {}
      },
      "source": [
        "from bs4 import BeautifulSoup"
      ],
      "execution_count": 0,
      "outputs": []
    },
    {
      "cell_type": "markdown",
      "metadata": {
        "id": "ylcnnJ2kPLtn",
        "colab_type": "text"
      },
      "source": [
        "<div class=\"alert alert-info\">\n",
        "  \n",
        "**Exercice1:**\n",
        "Soit le html suivant de citations   </div>  \n",
        " </div>   "
      ]
    },
    {
      "cell_type": "code",
      "metadata": {
        "id": "r1QPyFLcPLtn",
        "colab_type": "code",
        "colab": {}
      },
      "source": [
        "html= \"\"\"\n",
        "<html>\n",
        "    <head>\n",
        "        <link rel=\"stylesheet\" href=\"styles.css\">\n",
        "    </head>\n",
        "    <body>\n",
        "    \n",
        "        <div class=\"block1\">\n",
        "            <h1> Les meilleurs citations </h1>\n",
        "\n",
        "                <h2> Horace Mann </h2>\n",
        "                <div>\n",
        "                    <p class = \"texte-h2\"> \"Be ashamed to die until you have won some victory for humanity\"</p>\n",
        "                    <p class = \"salaire\"> \"Il est payé 3 €\"</p>\n",
        "                </div>\n",
        "\n",
        "                <h2> Lelouch Vi Britannia </h2>\n",
        "                <div>\n",
        "                    <p class = \"texte-h2\" > \"Vivre sans rien faire est pareil à une mort lente\" </p>\n",
        "                    <p class = \"salaire\"> \"Il est payé 0€\"</p>\n",
        "                </div>\n",
        "\n",
        "                    <h2> Nabilla </h2>\n",
        "                <div>\n",
        "                    <p class = \"texte-h2\"> \"Non mais allo quoi\"</p>\n",
        "                    <p class = \"salaire\"> \"Elle est payée 3000 €\"</p>\n",
        "                </div>\n",
        "        </div>\n",
        "        \n",
        "        \n",
        "        \n",
        "        <div class=\"block2\">\n",
        "            <h1> Conclusions </h1>\n",
        "                <h2> Une conclusion pas top</h2>\n",
        "                <div>\n",
        "                    <p class =\"travail\"> Work hard !</p>\n",
        "                    <p class = \"famille\" > Par hard !</p>\n",
        "                    <p class = \"party\" > Party hard !</p>\n",
        "                </div>\n",
        "        </div>\n",
        "        \n",
        "        <div class=\"block2 fin\">\n",
        "            <h2> c'est un faux block 2</h2>\n",
        "        </div>\n",
        "        <p id = \"outlier\" title=\"MrMoche\">Ce paragraphe là n'a rien à faire ici 300 €</p\n",
        "    </body>\n",
        "\n",
        "</html>\n",
        "\n",
        "\"\"\"\n",
        "\n",
        "soup = BeautifulSoup(html, 'html.parser')\n",
        "#soup2 = BeautifulSoup(open('site.html'),'html.parser')"
      ],
      "execution_count": 0,
      "outputs": []
    },
    {
      "cell_type": "markdown",
      "metadata": {
        "id": "coL8MdePPLtq",
        "colab_type": "text"
      },
      "source": [
        "## FindAll"
      ]
    },
    {
      "cell_type": "code",
      "metadata": {
        "scrolled": false,
        "id": "3j2S_gdQPLtr",
        "colab_type": "code",
        "colab": {},
        "outputId": "7ec6d5aa-0000-4c38-d62e-3ffbbe96e416"
      },
      "source": [
        "#retourner une liste de toutes les balises \"h1\"\n",
        "liste_h1_brut = soup.findAll('h1')\n",
        "print(liste_h1_brut)\n",
        "print(liste_h1_brut[1])\n",
        "print(liste_h1_brut[0].string)\n"
      ],
      "execution_count": 0,
      "outputs": [
        {
          "output_type": "stream",
          "text": [
            "[<h1> Les meilleurs citations </h1>, <h1> Conclusions </h1>]\n",
            "<h1> Conclusions </h1>\n",
            " Les meilleurs citations \n"
          ],
          "name": "stdout"
        }
      ]
    },
    {
      "cell_type": "code",
      "metadata": {
        "id": "mibX6qYPPLtu",
        "colab_type": "code",
        "colab": {},
        "outputId": "1aee4f3a-506a-45b3-904e-8f48a00c6d55"
      },
      "source": [
        "#retourner une liste de toutes les valeurs à l'intérieur des balises \"h1\"\n",
        "liste_h1 = [h1.string for h1 in liste_h1_brut]\n",
        "print(liste_h1)"
      ],
      "execution_count": 0,
      "outputs": [
        {
          "output_type": "stream",
          "text": [
            "[' Les meilleurs citations ', ' Conclusions ']\n"
          ],
          "name": "stdout"
        }
      ]
    },
    {
      "cell_type": "code",
      "metadata": {
        "id": "GS2qEF50PLtx",
        "colab_type": "code",
        "colab": {},
        "outputId": "b011a433-b456-4ec6-b310-27459c23ebd5"
      },
      "source": [
        "#pareil avec 'p'\n",
        "soup.findAll('p')"
      ],
      "execution_count": 0,
      "outputs": [
        {
          "output_type": "execute_result",
          "data": {
            "text/plain": [
              "[<p class=\"texte-h2\"> \"Be ashamed to die until you have won some victory for humanity\"</p>,\n",
              " <p class=\"salaire\"> \"Il est payé 3 €\"</p>,\n",
              " <p class=\"texte-h2\"> \"Vivre sans rien faire est pareil à une mort lente\" </p>,\n",
              " <p class=\"salaire\"> \"Il est payé 0€\"</p>,\n",
              " <p class=\"texte-h2\"> \"Non mais allo quoi\"</p>,\n",
              " <p class=\"salaire\"> \"ceci n'est pas un salaire 3000 €\"</p>,\n",
              " <p class=\"salaire\"> \"Elle est payée 3000 €\"</p>,\n",
              " <p class=\"travail\"> Work hard !</p>,\n",
              " <p class=\"famille\"> Par hard !</p>,\n",
              " <p class=\"party\"> Party hard !</p>,\n",
              " <p id=\"outlier\" title=\"MrMoche\">Ce paragraphe là n'a rien à faire ici 300 €</p>]"
            ]
          },
          "metadata": {
            "tags": []
          },
          "execution_count": 19
        }
      ]
    },
    {
      "cell_type": "code",
      "metadata": {
        "id": "xEpJ_IO9PLt1",
        "colab_type": "code",
        "colab": {},
        "outputId": "0d9be1ae-a523-429c-e291-e8665c1dc352"
      },
      "source": [
        "#si on veut sortir ceux d'une classe particulière:\n",
        "soup.findAll('p', {'class':'travail'})"
      ],
      "execution_count": 0,
      "outputs": [
        {
          "output_type": "execute_result",
          "data": {
            "text/plain": [
              "[<p class=\"travail\"> Work hard !</p>]"
            ]
          },
          "metadata": {
            "tags": []
          },
          "execution_count": 20
        }
      ]
    },
    {
      "cell_type": "code",
      "metadata": {
        "id": "1msZQh7pPLt4",
        "colab_type": "code",
        "colab": {},
        "outputId": "a80a8d63-1d83-4dcf-aaf3-76550f068780"
      },
      "source": [
        "#si on veut sortir ceux de plusieurs classes:\n",
        "soup.findAll('p',{'class':['travail','texte-h2']})\n"
      ],
      "execution_count": 0,
      "outputs": [
        {
          "output_type": "execute_result",
          "data": {
            "text/plain": [
              "[<p class=\"texte-h2\"> \"Be ashamed to die until you have won some victory for humanity\"</p>,\n",
              " <p class=\"texte-h2\"> \"Vivre sans rien faire est pareil à une mort lente\" </p>,\n",
              " <p class=\"texte-h2\"> \"Non mais allo quoi\"</p>,\n",
              " <p class=\"travail\"> Work hard !</p>]"
            ]
          },
          "metadata": {
            "tags": []
          },
          "execution_count": 21
        }
      ]
    },
    {
      "cell_type": "code",
      "metadata": {
        "id": "LwzhHeT8PLt7",
        "colab_type": "code",
        "colab": {},
        "outputId": "af3e766e-61c1-4117-a244-7f56b6d3dcc0"
      },
      "source": [
        "#Trouver le titre avec .attrs (! Cela ne fonctionne que sur un élément, noter le find au lieu du findAll)\n",
        "soup.find(\"p\",{\"id\":'outlier'}).attrs['title'] \n"
      ],
      "execution_count": 0,
      "outputs": [
        {
          "output_type": "execute_result",
          "data": {
            "text/plain": [
              "'MrMoche'"
            ]
          },
          "metadata": {
            "tags": []
          },
          "execution_count": 22
        }
      ]
    },
    {
      "cell_type": "markdown",
      "metadata": {
        "id": "UOzoN4FNPLt-",
        "colab_type": "text"
      },
      "source": [
        "## Select"
      ]
    },
    {
      "cell_type": "code",
      "metadata": {
        "id": "1c19gOdHPLt-",
        "colab_type": "code",
        "colab": {},
        "outputId": "521246e8-db1f-4137-fb92-4911a5beee7a"
      },
      "source": [
        "#Select permet de récupérer des élements par rapport à leur \"arborescence\"\n",
        "soup.select('div h2') #il cherche dans toute les divs les h2"
      ],
      "execution_count": 0,
      "outputs": [
        {
          "output_type": "execute_result",
          "data": {
            "text/plain": [
              "[<h2> Horace Mann </h2>,\n",
              " <h2> Lelouch Vi Britannia </h2>,\n",
              " <h2> Nabilla </h2>,\n",
              " <h2> Une conclusion pas top</h2>,\n",
              " <h2> c'est un faux block 2</h2>]"
            ]
          },
          "metadata": {
            "tags": []
          },
          "execution_count": 23
        }
      ]
    },
    {
      "cell_type": "code",
      "metadata": {
        "id": "JX2ViDWVPLuB",
        "colab_type": "code",
        "colab": {},
        "outputId": "f0558438-091f-44a8-ed5b-0a4ec237079c"
      },
      "source": [
        "soup.select('div.block2 h2') #il cherche les h2 dans toute les divs ayant la class block2"
      ],
      "execution_count": 0,
      "outputs": [
        {
          "output_type": "execute_result",
          "data": {
            "text/plain": [
              "[<h2> Une conclusion pas top</h2>, <h2> c'est un faux block 2</h2>]"
            ]
          },
          "metadata": {
            "tags": []
          },
          "execution_count": 24
        }
      ]
    },
    {
      "cell_type": "code",
      "metadata": {
        "id": "Zieem87iPLuE",
        "colab_type": "code",
        "colab": {},
        "outputId": "757f7ef9-c259-46de-ce16-3412368ca227"
      },
      "source": [
        "soup.select('div.block2.fin h2') #il cherche les h2 dans toute les divs ayant la class block2 et fin "
      ],
      "execution_count": 0,
      "outputs": [
        {
          "output_type": "execute_result",
          "data": {
            "text/plain": [
              "[<h2> c'est un faux block 2</h2>]"
            ]
          },
          "metadata": {
            "tags": []
          },
          "execution_count": 25
        }
      ]
    },
    {
      "cell_type": "code",
      "metadata": {
        "id": "0Lo-YShTPLuI",
        "colab_type": "code",
        "colab": {},
        "outputId": "2f8280ce-e05c-49b7-9f70-a650e73284ce"
      },
      "source": [
        "#Trouver le titre avec .attrs (! Cela ne fonctionne que sur un élément, noter le select_one au lieu du select)\n",
        "soup.select_one(\"#outlier\").attrs['title']"
      ],
      "execution_count": 0,
      "outputs": [
        {
          "output_type": "execute_result",
          "data": {
            "text/plain": [
              "'MrMoche'"
            ]
          },
          "metadata": {
            "tags": []
          },
          "execution_count": 26
        }
      ]
    },
    {
      "cell_type": "markdown",
      "metadata": {
        "id": "aE8U3XI4PLuK",
        "colab_type": "text"
      },
      "source": [
        "<div class=\"alert alert-success\">\n",
        "\n",
        "**1-**\n",
        "    \n",
        "Récupérer toutes les citations \n",
        "    \n",
        "!!indication: vérifier la classe: p.texte-h2\n",
        "    \n",
        "</div>  "
      ]
    },
    {
      "cell_type": "code",
      "metadata": {
        "id": "2RHzPQddPLuL",
        "colab_type": "code",
        "colab": {},
        "outputId": "66aa333e-49b7-45fb-d809-b228eeea61ac"
      },
      "source": [
        "texte_brut = soup.select('div.block1 div')\n",
        "print(texte_brut)\n",
        "citation_brute = [div.select('p.texte-h2')for div in texte_brut]\n",
        "print(citation_brute)\n",
        "citations= [j.string for i in citation_brute for j in i]\n",
        "citations"
      ],
      "execution_count": 0,
      "outputs": [
        {
          "output_type": "stream",
          "text": [
            "[<div>\n",
            "<p class=\"texte-h2\"> \"Be ashamed to die until you have won some victory for humanity\"</p>\n",
            "<p class=\"salaire\"> \"Il est payé 3 €\"</p>\n",
            "</div>, <div>\n",
            "<p class=\"texte-h2\"> \"Vivre sans rien faire est pareil à une mort lente\" </p>\n",
            "<p class=\"salaire\"> \"Il est payé 0€\"</p>\n",
            "</div>, <div>\n",
            "<p class=\"texte-h2\"> \"Non mais allo quoi\"</p>\n",
            "<p class=\"salaire\"> \"Elle est payée 3000 €\"</p>\n",
            "</div>]\n",
            "[[<p class=\"texte-h2\"> \"Be ashamed to die until you have won some victory for humanity\"</p>], [<p class=\"texte-h2\"> \"Vivre sans rien faire est pareil à une mort lente\" </p>], [<p class=\"texte-h2\"> \"Non mais allo quoi\"</p>]]\n"
          ],
          "name": "stdout"
        },
        {
          "output_type": "execute_result",
          "data": {
            "text/plain": [
              "[' \"Be ashamed to die until you have won some victory for humanity\"',\n",
              " ' \"Vivre sans rien faire est pareil à une mort lente\" ',\n",
              " ' \"Non mais allo quoi\"']"
            ]
          },
          "metadata": {
            "tags": []
          },
          "execution_count": 114
        }
      ]
    },
    {
      "cell_type": "markdown",
      "metadata": {
        "id": "fFXG7d-VPLuN",
        "colab_type": "text"
      },
      "source": [
        "<div class=\"alert alert-success\">\n",
        "\n",
        "**2-**\n",
        "    \n",
        "créer un dictionnaire avec les noms des auteurs des citations en clés et les citations en valeurs   </div> \n"
      ]
    },
    {
      "cell_type": "code",
      "metadata": {
        "id": "7aGJTalzPLuN",
        "colab_type": "code",
        "colab": {},
        "outputId": "716c0dc7-ecb8-459f-8b16-ee7632008121"
      },
      "source": [
        "noms_brut = soup.select('div.block1 h2')\n",
        "noms = [h2.string for h2 in noms_brut]\n",
        "print(citations)\n",
        "print(noms)\n",
        "\n",
        "dico = dict(zip(noms,citations))\n",
        "dico"
      ],
      "execution_count": 0,
      "outputs": [
        {
          "output_type": "stream",
          "text": [
            "[' \"Be ashamed to die until you have won some victory for humanity\"', ' \"Vivre sans rien faire est pareil à une mort lente\" ', ' \"Non mais allo quoi\"']\n",
            "[' Horace Mann ', ' Lelouch Vi Britannia ', ' Nabilla ']\n",
            "<zip object at 0x07699588>\n"
          ],
          "name": "stdout"
        },
        {
          "output_type": "execute_result",
          "data": {
            "text/plain": [
              "{' Horace Mann ': ' \"Be ashamed to die until you have won some victory for humanity\"',\n",
              " ' Lelouch Vi Britannia ': ' \"Vivre sans rien faire est pareil à une mort lente\" ',\n",
              " ' Nabilla ': ' \"Non mais allo quoi\"'}"
            ]
          },
          "metadata": {
            "tags": []
          },
          "execution_count": 116
        }
      ]
    },
    {
      "cell_type": "code",
      "metadata": {
        "id": "5dWtQrrrPLuP",
        "colab_type": "code",
        "colab": {},
        "outputId": "94f684c5-6389-41df-b796-6a12f2835221"
      },
      "source": [
        "print(noms)\n",
        "print(citations)"
      ],
      "execution_count": 0,
      "outputs": [
        {
          "output_type": "stream",
          "text": [
            "[' Horace Mann ', ' Lelouch Vi Britannia ', ' Nabilla ']\n",
            "[' \"Be ashamed to die until you have won some victory for humanity\"', ' \"Vivre sans rien faire est pareil à une mort lente\" ', ' \"Non mais allo quoi\"']\n"
          ],
          "name": "stdout"
        }
      ]
    },
    {
      "cell_type": "code",
      "metadata": {
        "id": "FT7VGSXSPLuR",
        "colab_type": "code",
        "colab": {},
        "outputId": "361a1a4e-92f5-4249-b3a7-b792a01f3241"
      },
      "source": [
        "noms = soup.select('.block1 h2')\n",
        "citations = soup.select('.texte-h2')\n",
        "dico = {}\n",
        "for i in range(len(noms)):\n",
        "    dico[noms[i].text] = citations[i].text\n",
        "dico"
      ],
      "execution_count": 0,
      "outputs": [
        {
          "output_type": "execute_result",
          "data": {
            "text/plain": [
              "{' Horace Mann ': ' \"Be ashamed to die until you have won some victory for humanity\"',\n",
              " ' Lelouch Vi Britannia ': ' \"Vivre sans rien faire est pareil à une mort lente\" ',\n",
              " ' Nabilla ': ' \"Non mais allo quoi\"'}"
            ]
          },
          "metadata": {
            "tags": []
          },
          "execution_count": 106
        }
      ]
    },
    {
      "cell_type": "markdown",
      "metadata": {
        "id": "cL_3YTmBPLuU",
        "colab_type": "text"
      },
      "source": [
        "<div class=\"alert alert-success\">\n",
        "\n",
        "**3-**\n",
        "    \n",
        "Calculer la moyenne des salaires (en utilisant regex pour récupérer les salaires, évidemment)\n",
        "   </div> \n"
      ]
    },
    {
      "cell_type": "code",
      "metadata": {
        "id": "96iP47YNPLuU",
        "colab_type": "code",
        "colab": {}
      },
      "source": [
        "import re\n",
        "from statistics import mean "
      ],
      "execution_count": 0,
      "outputs": []
    },
    {
      "cell_type": "code",
      "metadata": {
        "id": "6mBzPPozPLuW",
        "colab_type": "code",
        "colab": {},
        "outputId": "f5d838e4-f1c1-4e32-c617-70a82ce7801e"
      },
      "source": [
        "salaire_balise = soup.select('div.block1 p.salaire')\n",
        "print(salaire_balise)\n",
        "#salaire_string = re.findall(r'payé\\D*(\\d+)', str(salaire_balise[0]))\n",
        "salaire_string = [re.findall('payé(?:e)* (\\d+)',i.string)[0] \\\n",
        "                  for i in salaire_balise if re.findall('payé(?:e)? (\\d+)',i.string) !=[]]\n",
        "\n",
        "\n",
        "print(salaire_string)\n",
        "salaire = [float(i) for i in salaire_string]\n",
        "print(mean(salaire))"
      ],
      "execution_count": 0,
      "outputs": [
        {
          "output_type": "stream",
          "text": [
            "[<p class=\"salaire\"> \"Il est payé 3 €\"</p>, <p class=\"salaire\"> \"Il est payé 0€\"</p>, <p class=\"salaire\"> \"Elle est payée 3000 €\"</p>]\n",
            "['3', '0', '3000']\n",
            "1001.0\n"
          ],
          "name": "stdout"
        }
      ]
    },
    {
      "cell_type": "code",
      "metadata": {
        "id": "LCwtSs0gPLuY",
        "colab_type": "code",
        "colab": {},
        "outputId": "d038b323-253c-4545-9b47-67bcc5c6e2a5"
      },
      "source": [
        "salaire_balise = soup.select('.salaire')\n",
        "ma_liste = [j.string for i in salaire_balise for j in i]\n",
        "print(ma_liste)\n",
        "salaires = re.findall( r'payé\\D* (\\d+)', str(ma_liste))\n",
        "print(salaires)\n",
        "\n",
        "for i in range(len(salaires)):\n",
        "    salaires[i]=int(salaires[i])\n",
        "\n",
        "mean(salaires)"
      ],
      "execution_count": 0,
      "outputs": [
        {
          "output_type": "stream",
          "text": [
            "[' \"Il est payé 3 €\"', ' \"Il est payé 0€\"', ' \"Elle est payée 3000 €\"']\n",
            "['3', '0', '3000']\n"
          ],
          "name": "stdout"
        },
        {
          "output_type": "execute_result",
          "data": {
            "text/plain": [
              "1001"
            ]
          },
          "metadata": {
            "tags": []
          },
          "execution_count": 77
        }
      ]
    },
    {
      "cell_type": "markdown",
      "metadata": {
        "id": "PBOcIFIjPLua",
        "colab_type": "text"
      },
      "source": [
        "<div class=\"alert alert-info\">\n",
        "  \n",
        "**Exercice2:**\n",
        "Soit pour scrapping et analyse la série Game of Thrones à partir du site de la base de films imdb suivant : http://www.imdb.com/title/tt0944947/episodes    </div>  \n"
      ]
    },
    {
      "cell_type": "code",
      "metadata": {
        "id": "U4WN7QnLPLub",
        "colab_type": "code",
        "colab": {}
      },
      "source": [
        "import requests\n",
        "from bs4 import BeautifulSoup"
      ],
      "execution_count": 0,
      "outputs": []
    },
    {
      "cell_type": "markdown",
      "metadata": {
        "id": "m9M_rBYkPLuf",
        "colab_type": "text"
      },
      "source": [
        "<div class=\"alert alert-success\">\n",
        "\n",
        "**1-**\n",
        "- Recupérer dans une liste les 8 saisons de  Game of Thrones\n",
        "    \n",
        "- Récupérer la liste des épisodes ainsi que le rating de chacune\n",
        "    \n",
        "    indications: voir les classes 'eplist' et 'ipl-rating-star__rating'\n",
        "\n",
        "</div>\n",
        "   "
      ]
    },
    {
      "cell_type": "code",
      "metadata": {
        "id": "gS5_7GqOPLug",
        "colab_type": "code",
        "colab": {},
        "outputId": "b9222f5c-c92a-4924-9cb9-456090115ef2"
      },
      "source": [
        "\n",
        "\n",
        "url = 'http://www.imdb.com/title/tt0944947/episodes'\n",
        "\n",
        "episodes = []\n",
        "ratings = []\n",
        "\n",
        "# Go over seasons 1 to 8\n",
        "for season in range(1, 9):\n",
        "    r = requests.get(url, params={'season': season})\n",
        "    soup = BeautifulSoup(r.text, 'html.parser')\n",
        "    listing = soup.find('div', class_='eplist')\n",
        "    for epnr, div in enumerate(listing.find_all('div', recursive=False)):\n",
        "        episode = \"{}.{}\".format(season, epnr + 1)\n",
        "        rating_el = div.find(class_='ipl-rating-star__rating')\n",
        "        rating = float(rating_el.get_text(strip=True))\n",
        "        print('Episode:', episode, '-- rating:', rating)\n",
        "        episodes.append(episode)\n",
        "        ratings.append(rating)\n",
        "\n"
      ],
      "execution_count": 0,
      "outputs": [
        {
          "output_type": "stream",
          "text": [
            "Episode: 1.1 -- rating: 9.1\n",
            "Episode: 1.2 -- rating: 8.8\n",
            "Episode: 1.3 -- rating: 8.7\n",
            "Episode: 1.4 -- rating: 8.8\n",
            "Episode: 1.5 -- rating: 9.1\n",
            "Episode: 1.6 -- rating: 9.2\n",
            "Episode: 1.7 -- rating: 9.2\n",
            "Episode: 1.8 -- rating: 9.0\n",
            "Episode: 1.9 -- rating: 9.6\n",
            "Episode: 1.10 -- rating: 9.5\n",
            "Episode: 2.1 -- rating: 8.8\n",
            "Episode: 2.2 -- rating: 8.5\n",
            "Episode: 2.3 -- rating: 8.8\n",
            "Episode: 2.4 -- rating: 8.8\n",
            "Episode: 2.5 -- rating: 8.8\n",
            "Episode: 2.6 -- rating: 9.1\n",
            "Episode: 2.7 -- rating: 8.9\n",
            "Episode: 2.8 -- rating: 8.8\n",
            "Episode: 2.9 -- rating: 9.7\n",
            "Episode: 2.10 -- rating: 9.4\n",
            "Episode: 3.1 -- rating: 8.8\n",
            "Episode: 3.2 -- rating: 8.6\n",
            "Episode: 3.3 -- rating: 8.9\n",
            "Episode: 3.4 -- rating: 9.6\n",
            "Episode: 3.5 -- rating: 9.0\n",
            "Episode: 3.6 -- rating: 8.8\n",
            "Episode: 3.7 -- rating: 8.7\n",
            "Episode: 3.8 -- rating: 9.0\n",
            "Episode: 3.9 -- rating: 9.9\n",
            "Episode: 3.10 -- rating: 9.1\n",
            "Episode: 4.1 -- rating: 9.1\n",
            "Episode: 4.2 -- rating: 9.7\n",
            "Episode: 4.3 -- rating: 8.9\n",
            "Episode: 4.4 -- rating: 8.8\n",
            "Episode: 4.5 -- rating: 8.7\n",
            "Episode: 4.6 -- rating: 9.7\n",
            "Episode: 4.7 -- rating: 9.1\n",
            "Episode: 4.8 -- rating: 9.7\n",
            "Episode: 4.9 -- rating: 9.6\n",
            "Episode: 4.10 -- rating: 9.7\n",
            "Episode: 5.1 -- rating: 8.5\n",
            "Episode: 5.2 -- rating: 8.5\n",
            "Episode: 5.3 -- rating: 8.5\n",
            "Episode: 5.4 -- rating: 8.7\n",
            "Episode: 5.5 -- rating: 8.6\n",
            "Episode: 5.6 -- rating: 8.0\n",
            "Episode: 5.7 -- rating: 9.0\n",
            "Episode: 5.8 -- rating: 9.9\n",
            "Episode: 5.9 -- rating: 9.5\n",
            "Episode: 5.10 -- rating: 9.1\n",
            "Episode: 6.1 -- rating: 8.5\n",
            "Episode: 6.2 -- rating: 9.4\n",
            "Episode: 6.3 -- rating: 8.7\n",
            "Episode: 6.4 -- rating: 9.1\n",
            "Episode: 6.5 -- rating: 9.7\n",
            "Episode: 6.6 -- rating: 8.4\n",
            "Episode: 6.7 -- rating: 8.6\n",
            "Episode: 6.8 -- rating: 8.4\n",
            "Episode: 6.9 -- rating: 9.9\n",
            "Episode: 6.10 -- rating: 9.9\n",
            "Episode: 7.1 -- rating: 8.6\n",
            "Episode: 7.2 -- rating: 8.9\n",
            "Episode: 7.3 -- rating: 9.2\n",
            "Episode: 7.4 -- rating: 9.8\n",
            "Episode: 7.5 -- rating: 8.8\n",
            "Episode: 7.6 -- rating: 9.1\n",
            "Episode: 7.7 -- rating: 9.4\n",
            "Episode: 8.1 -- rating: 7.6\n",
            "Episode: 8.2 -- rating: 7.9\n",
            "Episode: 8.3 -- rating: 7.5\n",
            "Episode: 8.4 -- rating: 5.5\n",
            "Episode: 8.5 -- rating: 6.0\n",
            "Episode: 8.6 -- rating: 4.1\n"
          ],
          "name": "stdout"
        }
      ]
    },
    {
      "cell_type": "code",
      "metadata": {
        "id": "2OCjNNLTPLui",
        "colab_type": "code",
        "colab": {},
        "outputId": "2caa4a9a-6ccd-4715-8e4a-4ce71d6424b5"
      },
      "source": [
        "len(episodes)"
      ],
      "execution_count": 0,
      "outputs": [
        {
          "output_type": "execute_result",
          "data": {
            "text/plain": [
              "73"
            ]
          },
          "metadata": {
            "tags": []
          },
          "execution_count": 97
        }
      ]
    },
    {
      "cell_type": "code",
      "metadata": {
        "id": "_CBMkbAbPLuk",
        "colab_type": "code",
        "colab": {},
        "outputId": "ba1cbb16-ce5b-4015-86f1-565195d85632"
      },
      "source": [
        "\n",
        "url = 'http://www.imdb.com/title/tt0944947/episodes'\n",
        "\n",
        "episodes = []\n",
        "ratings = []\n",
        "ratings_list=[]\n",
        "# Go over seasons 1 to 8\n",
        "for season in range(1, 9):\n",
        "    r = requests.get(url, params={'season': season})\n",
        "    soup = BeautifulSoup(r.text, 'html.parser')\n",
        "\n",
        "    for episode_title in soup.select('.info strong a'):\n",
        "        episodes.append(episode_title.text)\n",
        "\n",
        "    for rating in soup.select('div.info div.ipl-rating-widget div.ipl-rating-star.small span.ipl-rating-star__rating'):\n",
        "        ratings.append(rating.text)\n",
        "    ratings_season = dict(zip(episodes, ratings))\n",
        "    ratings_list.append(ratings_season)\n",
        "    \n",
        "ratings_list"
      ],
      "execution_count": 0,
      "outputs": [
        {
          "output_type": "execute_result",
          "data": {
            "text/plain": [
              "[{'Winter Is Coming': '9.1',\n",
              "  'The Kingsroad': '8.8',\n",
              "  'Lord Snow': '8.7',\n",
              "  'Cripples, Bastards, and Broken Things': '8.8',\n",
              "  'The Wolf and the Lion': '9.1',\n",
              "  'A Golden Crown': '9.2',\n",
              "  'You Win or You Die': '9.2',\n",
              "  'The Pointy End': '9.0',\n",
              "  'Baelor': '9.6',\n",
              "  'Fire and Blood': '9.5'},\n",
              " {'Winter Is Coming': '9.1',\n",
              "  'The Kingsroad': '8.8',\n",
              "  'Lord Snow': '8.7',\n",
              "  'Cripples, Bastards, and Broken Things': '8.8',\n",
              "  'The Wolf and the Lion': '9.1',\n",
              "  'A Golden Crown': '9.2',\n",
              "  'You Win or You Die': '9.2',\n",
              "  'The Pointy End': '9.0',\n",
              "  'Baelor': '9.6',\n",
              "  'Fire and Blood': '9.5',\n",
              "  'The North Remembers': '8.8',\n",
              "  'The Night Lands': '8.5',\n",
              "  'What Is Dead May Never Die': '8.8',\n",
              "  'Garden of Bones': '8.8',\n",
              "  'The Ghost of Harrenhal': '8.8',\n",
              "  'The Old Gods and the New': '9.1',\n",
              "  'A Man Without Honor': '8.9',\n",
              "  'The Prince of Winterfell': '8.8',\n",
              "  'Blackwater': '9.7',\n",
              "  'Valar Morghulis': '9.4'},\n",
              " {'Winter Is Coming': '9.1',\n",
              "  'The Kingsroad': '8.8',\n",
              "  'Lord Snow': '8.7',\n",
              "  'Cripples, Bastards, and Broken Things': '8.8',\n",
              "  'The Wolf and the Lion': '9.1',\n",
              "  'A Golden Crown': '9.2',\n",
              "  'You Win or You Die': '9.2',\n",
              "  'The Pointy End': '9.0',\n",
              "  'Baelor': '9.6',\n",
              "  'Fire and Blood': '9.5',\n",
              "  'The North Remembers': '8.8',\n",
              "  'The Night Lands': '8.5',\n",
              "  'What Is Dead May Never Die': '8.8',\n",
              "  'Garden of Bones': '8.8',\n",
              "  'The Ghost of Harrenhal': '8.8',\n",
              "  'The Old Gods and the New': '9.1',\n",
              "  'A Man Without Honor': '8.9',\n",
              "  'The Prince of Winterfell': '8.8',\n",
              "  'Blackwater': '9.7',\n",
              "  'Valar Morghulis': '9.4',\n",
              "  'Valar Dohaeris': '8.8',\n",
              "  'Dark Wings, Dark Words': '8.6',\n",
              "  'Walk of Punishment': '8.9',\n",
              "  'And Now His Watch Is Ended': '9.6',\n",
              "  'Kissed by Fire': '9.0',\n",
              "  'The Climb': '8.8',\n",
              "  'The Bear and the Maiden Fair': '8.7',\n",
              "  'Second Sons': '9.0',\n",
              "  'The Rains of Castamere': '9.9',\n",
              "  'Mhysa': '9.1'},\n",
              " {'Winter Is Coming': '9.1',\n",
              "  'The Kingsroad': '8.8',\n",
              "  'Lord Snow': '8.7',\n",
              "  'Cripples, Bastards, and Broken Things': '8.8',\n",
              "  'The Wolf and the Lion': '9.1',\n",
              "  'A Golden Crown': '9.2',\n",
              "  'You Win or You Die': '9.2',\n",
              "  'The Pointy End': '9.0',\n",
              "  'Baelor': '9.6',\n",
              "  'Fire and Blood': '9.5',\n",
              "  'The North Remembers': '8.8',\n",
              "  'The Night Lands': '8.5',\n",
              "  'What Is Dead May Never Die': '8.8',\n",
              "  'Garden of Bones': '8.8',\n",
              "  'The Ghost of Harrenhal': '8.8',\n",
              "  'The Old Gods and the New': '9.1',\n",
              "  'A Man Without Honor': '8.9',\n",
              "  'The Prince of Winterfell': '8.8',\n",
              "  'Blackwater': '9.7',\n",
              "  'Valar Morghulis': '9.4',\n",
              "  'Valar Dohaeris': '8.8',\n",
              "  'Dark Wings, Dark Words': '8.6',\n",
              "  'Walk of Punishment': '8.9',\n",
              "  'And Now His Watch Is Ended': '9.6',\n",
              "  'Kissed by Fire': '9.0',\n",
              "  'The Climb': '8.8',\n",
              "  'The Bear and the Maiden Fair': '8.7',\n",
              "  'Second Sons': '9.0',\n",
              "  'The Rains of Castamere': '9.9',\n",
              "  'Mhysa': '9.1',\n",
              "  'Two Swords': '9.1',\n",
              "  'The Lion and the Rose': '9.7',\n",
              "  'Breaker of Chains': '8.9',\n",
              "  'Oathkeeper': '8.8',\n",
              "  'First of His Name': '8.7',\n",
              "  'The Laws of Gods and Men': '9.7',\n",
              "  'Mockingbird': '9.1',\n",
              "  'The Mountain and the Viper': '9.7',\n",
              "  'The Watchers on the Wall': '9.6',\n",
              "  'The Children': '9.7'},\n",
              " {'Winter Is Coming': '9.1',\n",
              "  'The Kingsroad': '8.8',\n",
              "  'Lord Snow': '8.7',\n",
              "  'Cripples, Bastards, and Broken Things': '8.8',\n",
              "  'The Wolf and the Lion': '9.1',\n",
              "  'A Golden Crown': '9.2',\n",
              "  'You Win or You Die': '9.2',\n",
              "  'The Pointy End': '9.0',\n",
              "  'Baelor': '9.6',\n",
              "  'Fire and Blood': '9.5',\n",
              "  'The North Remembers': '8.8',\n",
              "  'The Night Lands': '8.5',\n",
              "  'What Is Dead May Never Die': '8.8',\n",
              "  'Garden of Bones': '8.8',\n",
              "  'The Ghost of Harrenhal': '8.8',\n",
              "  'The Old Gods and the New': '9.1',\n",
              "  'A Man Without Honor': '8.9',\n",
              "  'The Prince of Winterfell': '8.8',\n",
              "  'Blackwater': '9.7',\n",
              "  'Valar Morghulis': '9.4',\n",
              "  'Valar Dohaeris': '8.8',\n",
              "  'Dark Wings, Dark Words': '8.6',\n",
              "  'Walk of Punishment': '8.9',\n",
              "  'And Now His Watch Is Ended': '9.6',\n",
              "  'Kissed by Fire': '9.0',\n",
              "  'The Climb': '8.8',\n",
              "  'The Bear and the Maiden Fair': '8.7',\n",
              "  'Second Sons': '9.0',\n",
              "  'The Rains of Castamere': '9.9',\n",
              "  'Mhysa': '9.1',\n",
              "  'Two Swords': '9.1',\n",
              "  'The Lion and the Rose': '9.7',\n",
              "  'Breaker of Chains': '8.9',\n",
              "  'Oathkeeper': '8.8',\n",
              "  'First of His Name': '8.7',\n",
              "  'The Laws of Gods and Men': '9.7',\n",
              "  'Mockingbird': '9.1',\n",
              "  'The Mountain and the Viper': '9.7',\n",
              "  'The Watchers on the Wall': '9.6',\n",
              "  'The Children': '9.7',\n",
              "  'The Wars to Come': '8.5',\n",
              "  'The House of Black and White': '8.5',\n",
              "  'High Sparrow': '8.5',\n",
              "  'Sons of the Harpy': '8.7',\n",
              "  'Kill the Boy': '8.6',\n",
              "  'Unbowed, Unbent, Unbroken': '8.0',\n",
              "  'The Gift': '9.0',\n",
              "  'Hardhome': '9.9',\n",
              "  'The Dance of Dragons': '9.5',\n",
              "  \"Mother's Mercy\": '9.1'},\n",
              " {'Winter Is Coming': '9.1',\n",
              "  'The Kingsroad': '8.8',\n",
              "  'Lord Snow': '8.7',\n",
              "  'Cripples, Bastards, and Broken Things': '8.8',\n",
              "  'The Wolf and the Lion': '9.1',\n",
              "  'A Golden Crown': '9.2',\n",
              "  'You Win or You Die': '9.2',\n",
              "  'The Pointy End': '9.0',\n",
              "  'Baelor': '9.6',\n",
              "  'Fire and Blood': '9.5',\n",
              "  'The North Remembers': '8.8',\n",
              "  'The Night Lands': '8.5',\n",
              "  'What Is Dead May Never Die': '8.8',\n",
              "  'Garden of Bones': '8.8',\n",
              "  'The Ghost of Harrenhal': '8.8',\n",
              "  'The Old Gods and the New': '9.1',\n",
              "  'A Man Without Honor': '8.9',\n",
              "  'The Prince of Winterfell': '8.8',\n",
              "  'Blackwater': '9.7',\n",
              "  'Valar Morghulis': '9.4',\n",
              "  'Valar Dohaeris': '8.8',\n",
              "  'Dark Wings, Dark Words': '8.6',\n",
              "  'Walk of Punishment': '8.9',\n",
              "  'And Now His Watch Is Ended': '9.6',\n",
              "  'Kissed by Fire': '9.0',\n",
              "  'The Climb': '8.8',\n",
              "  'The Bear and the Maiden Fair': '8.7',\n",
              "  'Second Sons': '9.0',\n",
              "  'The Rains of Castamere': '9.9',\n",
              "  'Mhysa': '9.1',\n",
              "  'Two Swords': '9.1',\n",
              "  'The Lion and the Rose': '9.7',\n",
              "  'Breaker of Chains': '8.9',\n",
              "  'Oathkeeper': '8.8',\n",
              "  'First of His Name': '8.7',\n",
              "  'The Laws of Gods and Men': '9.7',\n",
              "  'Mockingbird': '9.1',\n",
              "  'The Mountain and the Viper': '9.7',\n",
              "  'The Watchers on the Wall': '9.6',\n",
              "  'The Children': '9.7',\n",
              "  'The Wars to Come': '8.5',\n",
              "  'The House of Black and White': '8.5',\n",
              "  'High Sparrow': '8.5',\n",
              "  'Sons of the Harpy': '8.7',\n",
              "  'Kill the Boy': '8.6',\n",
              "  'Unbowed, Unbent, Unbroken': '8.0',\n",
              "  'The Gift': '9.0',\n",
              "  'Hardhome': '9.9',\n",
              "  'The Dance of Dragons': '9.5',\n",
              "  \"Mother's Mercy\": '9.1',\n",
              "  'The Red Woman': '8.5',\n",
              "  'Home': '9.4',\n",
              "  'Oathbreaker': '8.7',\n",
              "  'Book of the Stranger': '9.1',\n",
              "  'The Door': '9.7',\n",
              "  'Blood of My Blood': '8.4',\n",
              "  'The Broken Man': '8.6',\n",
              "  'No One': '8.4',\n",
              "  'Battle of the Bastards': '9.9',\n",
              "  'The Winds of Winter': '9.9'},\n",
              " {'Winter Is Coming': '9.1',\n",
              "  'The Kingsroad': '8.8',\n",
              "  'Lord Snow': '8.7',\n",
              "  'Cripples, Bastards, and Broken Things': '8.8',\n",
              "  'The Wolf and the Lion': '9.1',\n",
              "  'A Golden Crown': '9.2',\n",
              "  'You Win or You Die': '9.2',\n",
              "  'The Pointy End': '9.0',\n",
              "  'Baelor': '9.6',\n",
              "  'Fire and Blood': '9.5',\n",
              "  'The North Remembers': '8.8',\n",
              "  'The Night Lands': '8.5',\n",
              "  'What Is Dead May Never Die': '8.8',\n",
              "  'Garden of Bones': '8.8',\n",
              "  'The Ghost of Harrenhal': '8.8',\n",
              "  'The Old Gods and the New': '9.1',\n",
              "  'A Man Without Honor': '8.9',\n",
              "  'The Prince of Winterfell': '8.8',\n",
              "  'Blackwater': '9.7',\n",
              "  'Valar Morghulis': '9.4',\n",
              "  'Valar Dohaeris': '8.8',\n",
              "  'Dark Wings, Dark Words': '8.6',\n",
              "  'Walk of Punishment': '8.9',\n",
              "  'And Now His Watch Is Ended': '9.6',\n",
              "  'Kissed by Fire': '9.0',\n",
              "  'The Climb': '8.8',\n",
              "  'The Bear and the Maiden Fair': '8.7',\n",
              "  'Second Sons': '9.0',\n",
              "  'The Rains of Castamere': '9.9',\n",
              "  'Mhysa': '9.1',\n",
              "  'Two Swords': '9.1',\n",
              "  'The Lion and the Rose': '9.7',\n",
              "  'Breaker of Chains': '8.9',\n",
              "  'Oathkeeper': '8.8',\n",
              "  'First of His Name': '8.7',\n",
              "  'The Laws of Gods and Men': '9.7',\n",
              "  'Mockingbird': '9.1',\n",
              "  'The Mountain and the Viper': '9.7',\n",
              "  'The Watchers on the Wall': '9.6',\n",
              "  'The Children': '9.7',\n",
              "  'The Wars to Come': '8.5',\n",
              "  'The House of Black and White': '8.5',\n",
              "  'High Sparrow': '8.5',\n",
              "  'Sons of the Harpy': '8.7',\n",
              "  'Kill the Boy': '8.6',\n",
              "  'Unbowed, Unbent, Unbroken': '8.0',\n",
              "  'The Gift': '9.0',\n",
              "  'Hardhome': '9.9',\n",
              "  'The Dance of Dragons': '9.5',\n",
              "  \"Mother's Mercy\": '9.1',\n",
              "  'The Red Woman': '8.5',\n",
              "  'Home': '9.4',\n",
              "  'Oathbreaker': '8.7',\n",
              "  'Book of the Stranger': '9.1',\n",
              "  'The Door': '9.7',\n",
              "  'Blood of My Blood': '8.4',\n",
              "  'The Broken Man': '8.6',\n",
              "  'No One': '8.4',\n",
              "  'Battle of the Bastards': '9.9',\n",
              "  'The Winds of Winter': '9.9',\n",
              "  'Dragonstone': '8.6',\n",
              "  'Stormborn': '8.9',\n",
              "  \"The Queen's Justice\": '9.2',\n",
              "  'The Spoils of War': '9.8',\n",
              "  'Eastwatch': '8.8',\n",
              "  'Beyond the Wall': '9.1',\n",
              "  'The Dragon and the Wolf': '9.4'},\n",
              " {'Winter Is Coming': '9.1',\n",
              "  'The Kingsroad': '8.8',\n",
              "  'Lord Snow': '8.7',\n",
              "  'Cripples, Bastards, and Broken Things': '8.8',\n",
              "  'The Wolf and the Lion': '9.1',\n",
              "  'A Golden Crown': '9.2',\n",
              "  'You Win or You Die': '9.2',\n",
              "  'The Pointy End': '9.0',\n",
              "  'Baelor': '9.6',\n",
              "  'Fire and Blood': '9.5',\n",
              "  'The North Remembers': '8.8',\n",
              "  'The Night Lands': '8.5',\n",
              "  'What Is Dead May Never Die': '8.8',\n",
              "  'Garden of Bones': '8.8',\n",
              "  'The Ghost of Harrenhal': '8.8',\n",
              "  'The Old Gods and the New': '9.1',\n",
              "  'A Man Without Honor': '8.9',\n",
              "  'The Prince of Winterfell': '8.8',\n",
              "  'Blackwater': '9.7',\n",
              "  'Valar Morghulis': '9.4',\n",
              "  'Valar Dohaeris': '8.8',\n",
              "  'Dark Wings, Dark Words': '8.6',\n",
              "  'Walk of Punishment': '8.9',\n",
              "  'And Now His Watch Is Ended': '9.6',\n",
              "  'Kissed by Fire': '9.0',\n",
              "  'The Climb': '8.8',\n",
              "  'The Bear and the Maiden Fair': '8.7',\n",
              "  'Second Sons': '9.0',\n",
              "  'The Rains of Castamere': '9.9',\n",
              "  'Mhysa': '9.1',\n",
              "  'Two Swords': '9.1',\n",
              "  'The Lion and the Rose': '9.7',\n",
              "  'Breaker of Chains': '8.9',\n",
              "  'Oathkeeper': '8.8',\n",
              "  'First of His Name': '8.7',\n",
              "  'The Laws of Gods and Men': '9.7',\n",
              "  'Mockingbird': '9.1',\n",
              "  'The Mountain and the Viper': '9.7',\n",
              "  'The Watchers on the Wall': '9.6',\n",
              "  'The Children': '9.7',\n",
              "  'The Wars to Come': '8.5',\n",
              "  'The House of Black and White': '8.5',\n",
              "  'High Sparrow': '8.5',\n",
              "  'Sons of the Harpy': '8.7',\n",
              "  'Kill the Boy': '8.6',\n",
              "  'Unbowed, Unbent, Unbroken': '8.0',\n",
              "  'The Gift': '9.0',\n",
              "  'Hardhome': '9.9',\n",
              "  'The Dance of Dragons': '9.5',\n",
              "  \"Mother's Mercy\": '9.1',\n",
              "  'The Red Woman': '8.5',\n",
              "  'Home': '9.4',\n",
              "  'Oathbreaker': '8.7',\n",
              "  'Book of the Stranger': '9.1',\n",
              "  'The Door': '9.7',\n",
              "  'Blood of My Blood': '8.4',\n",
              "  'The Broken Man': '8.6',\n",
              "  'No One': '8.4',\n",
              "  'Battle of the Bastards': '9.9',\n",
              "  'The Winds of Winter': '9.9',\n",
              "  'Dragonstone': '8.6',\n",
              "  'Stormborn': '8.9',\n",
              "  \"The Queen's Justice\": '9.2',\n",
              "  'The Spoils of War': '9.8',\n",
              "  'Eastwatch': '8.8',\n",
              "  'Beyond the Wall': '9.1',\n",
              "  'The Dragon and the Wolf': '9.4',\n",
              "  'Winterfell': '7.6',\n",
              "  'A Knight of the Seven Kingdoms': '7.9',\n",
              "  'The Long Night': '7.5',\n",
              "  'The Last of the Starks': '5.5',\n",
              "  'The Bells': '6.0',\n",
              "  'The Iron Throne': '4.1'}]"
            ]
          },
          "metadata": {
            "tags": []
          },
          "execution_count": 83
        }
      ]
    },
    {
      "cell_type": "markdown",
      "metadata": {
        "id": "KK66whKiPLun",
        "colab_type": "text"
      },
      "source": [
        "<div class=\"alert alert-success\">\n",
        "\n",
        "**2-**\n",
        "- Représenter le récapitulatif du résultat précédent par un bar plot (rating des différentes épisodes des toutes les saisons)  \n",
        "</div>\n",
        "   "
      ]
    },
    {
      "cell_type": "code",
      "metadata": {
        "id": "nAZ00_3rPLun",
        "colab_type": "code",
        "colab": {}
      },
      "source": [
        "import matplotlib.pyplot as plt"
      ],
      "execution_count": 0,
      "outputs": []
    },
    {
      "cell_type": "code",
      "metadata": {
        "id": "_hgpqFZzPLuq",
        "colab_type": "code",
        "colab": {},
        "outputId": "9184d0e1-b8e0-421d-c28d-343f27c04eef"
      },
      "source": [
        "episodes1 = ['S' + e.split('.')[0] if int(e.split('.')[1]) == 1 else '' for e in episodes]\n",
        "print(episodes)\n",
        "print(episodes1)"
      ],
      "execution_count": 0,
      "outputs": [
        {
          "output_type": "stream",
          "text": [
            "['1.1', '1.2', '1.3', '1.4', '1.5', '1.6', '1.7', '1.8', '1.9', '1.10', '2.1', '2.2', '2.3', '2.4', '2.5', '2.6', '2.7', '2.8', '2.9', '2.10', '3.1', '3.2', '3.3', '3.4', '3.5', '3.6', '3.7', '3.8', '3.9', '3.10', '4.1', '4.2', '4.3', '4.4', '4.5', '4.6', '4.7', '4.8', '4.9', '4.10', '5.1', '5.2', '5.3', '5.4', '5.5', '5.6', '5.7', '5.8', '5.9', '5.10', '6.1', '6.2', '6.3', '6.4', '6.5', '6.6', '6.7', '6.8', '6.9', '6.10', '7.1', '7.2', '7.3', '7.4', '7.5', '7.6', '7.7', '8.1', '8.2', '8.3', '8.4', '8.5', '8.6']\n",
            "['S1', '', '', '', '', '', '', '', '', '', 'S2', '', '', '', '', '', '', '', '', '', 'S3', '', '', '', '', '', '', '', '', '', 'S4', '', '', '', '', '', '', '', '', '', 'S5', '', '', '', '', '', '', '', '', '', 'S6', '', '', '', '', '', '', '', '', '', 'S7', '', '', '', '', '', '', 'S8', '', '', '', '', '']\n"
          ],
          "name": "stdout"
        }
      ]
    },
    {
      "cell_type": "code",
      "metadata": {
        "id": "Nju96KwpPLur",
        "colab_type": "code",
        "colab": {},
        "outputId": "0d156c33-f656-4a74-ed8b-8feedf39b39b"
      },
      "source": [
        "\n",
        "plt.figure()\n",
        "positions = [a*2 for a in range(len(ratings))]\n",
        "plt.bar(positions, ratings, align='center')\n",
        "plt.xticks(positions, episodes1)\n",
        "plt.xlabel(\"Seasons\")\n",
        "plt.ylabel(\"rating\")\n",
        "\n",
        "plt.suptitle('Game of Throne rating over seasons', fontsize=15)\n",
        "plt.show()"
      ],
      "execution_count": 0,
      "outputs": [
        {
          "output_type": "display_data",
          "data": {
            "image/png": "[encoded data removed]",
            "text/plain": [
              "<Figure size 432x288 with 1 Axes>"
            ]
          },
          "metadata": {
            "tags": [],
            "needs_background": "light"
          }
        }
      ]
    },
    {
      "cell_type": "markdown",
      "metadata": {
        "id": "_7KmLPesPLut",
        "colab_type": "text"
      },
      "source": [
        "## Bonus : Parse a dynamic page using Selenium:\n",
        "\n",
        "Refaire l'execice avec ce site internet : https://www.webscraper.io/test-sites/e-commerce/static/computers/laptops"
      ]
    },
    {
      "cell_type": "markdown",
      "metadata": {
        "id": "z6_LfQbdPLut",
        "colab_type": "text"
      },
      "source": [
        "The website https://webscraper.io has some fake pages to test scraping on.\n",
        "we'll use it on the page https://www.webscraper.io/test-sites/e-commerce/static/computers/laptops to get the product name and the price for the six items listed on the first page. "
      ]
    },
    {
      "cell_type": "markdown",
      "metadata": {
        "id": "5OjbFThyPLuu",
        "colab_type": "text"
      },
      "source": [
        "<div class=\"alert alert-success\">\n",
        "The steps to Parse a dynamic page using Selenium are:\n",
        "\n",
        "1- Initialize a driver (a Python object that controls a browser window)\n",
        "    \n",
        "2- Direct the driver to the URL we want to scrape.\n",
        "    \n",
        "3- Wait for the driver to finish executing the javascript, and changing the HTML. \n",
        "    \n",
        "The driver is typically a Chrome driver, so  the page is treated the same way as if you were visiting it in Chrome.\n",
        "    \n",
        "5- Use driver.page_source to get the HTML as it appears after javascript has rendered it.\n",
        "    \n",
        "6- Use a parser on the returned HTML\n",
        "    \n",
        "</div>"
      ]
    },
    {
      "cell_type": "code",
      "metadata": {
        "id": "i7FJ9xpAPLuu",
        "colab_type": "code",
        "colab": {}
      },
      "source": [
        "#Import Libraries\n",
        "\n",
        "from bs4 import BeautifulSoup\n",
        "from selenium import webdriver\n",
        "import time"
      ],
      "execution_count": 0,
      "outputs": []
    },
    {
      "cell_type": "code",
      "metadata": {
        "id": "rVKaqO9CPLuw",
        "colab_type": "code",
        "colab": {}
      },
      "source": [
        "from webdriver_manager.chrome import ChromeDriverManager\n",
        "\n",
        "#driver = webdriver.Chrome(ChromeDriverManager().install())\n",
        "\n",
        "# Change argument to the location you installed the chrome driver\n",
        "# (see selenium installation instructions, or get the driver for your\n",
        "# system from https://sites.google.com/a/chromium.org/chromedriver/downloads)\n",
        "driver = webdriver.Chrome('C:/Users/Utilisateur/Desktop/IA_School_niv1/chromedriver_win32/chromedriver.exe')\n"
      ],
      "execution_count": 0,
      "outputs": []
    },
    {
      "cell_type": "code",
      "metadata": {
        "id": "ITM0oWtePLuy",
        "colab_type": "code",
        "colab": {}
      },
      "source": [
        "url = 'https://www.webscraper.io/test-sites/e-commerce/static/computers/laptops'\n",
        "driver.get(url)"
      ],
      "execution_count": 0,
      "outputs": []
    },
    {
      "cell_type": "code",
      "metadata": {
        "id": "wMZRgsZbPLuz",
        "colab_type": "code",
        "colab": {},
        "outputId": "5ee0e747-2472-4d34-8916-5f2c78e2f31e"
      },
      "source": [
        "# Give the javascript time to render\n",
        "time.sleep(1)\n",
        "\n",
        "# Now we have the page, let BeautifulSoup do the rest!\n",
        "soup = BeautifulSoup(driver.page_source)\n",
        "\n",
        "# The text containing title and price are in a\n",
        "# div with class caption.\n",
        "for caption in soup.find_all(class_='caption'):\n",
        "    product_name = caption.find(class_='title').text\n",
        "    price = caption.find(class_='pull-right price').text\n",
        "    print(product_name, price)"
      ],
      "execution_count": 0,
      "outputs": [
        {
          "output_type": "stream",
          "text": [
            "Packard 255 G2 $416.99\n",
            "Aspire E1-510 $306.99\n",
            "ThinkPad T540p $1178.99\n",
            "ProBook $739.99\n",
            "ThinkPad X240 $1311.99\n",
            "Aspire E1-572G $581.99\n"
          ],
          "name": "stdout"
        }
      ]
    },
    {
      "cell_type": "markdown",
      "metadata": {
        "id": "jNDu9msBPLu2",
        "colab_type": "text"
      },
      "source": [
        "### Useful ressources:\n",
        "La doc : https://selenium-python.readthedocs.io/navigating.html<br>\n",
        "cheatsheet : http://allselenium.info/python-selenium-commands-cheat-sheet-frequently-used/<br>\n",
        "moins complète mais plus propre : http://akul.me/blog/2016/selenium-cheatsheet/ <br>\n"
      ]
    }
  ]
}